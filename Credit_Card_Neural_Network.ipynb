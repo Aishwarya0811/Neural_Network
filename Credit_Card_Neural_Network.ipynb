{
 "cells": [
  {
   "cell_type": "code",
   "execution_count": 2,
   "metadata": {},
   "outputs": [],
   "source": [
    "import pandas as pd \n",
    "import numpy as np \n",
    "import matplotlib.pyplot as plt"
   ]
  },
  {
   "cell_type": "code",
   "execution_count": 28,
   "metadata": {},
   "outputs": [
    {
     "data": {
      "text/html": [
       "<div>\n",
       "<style scoped>\n",
       "    .dataframe tbody tr th:only-of-type {\n",
       "        vertical-align: middle;\n",
       "    }\n",
       "\n",
       "    .dataframe tbody tr th {\n",
       "        vertical-align: top;\n",
       "    }\n",
       "\n",
       "    .dataframe thead th {\n",
       "        text-align: right;\n",
       "    }\n",
       "</style>\n",
       "<table border=\"1\" class=\"dataframe\">\n",
       "  <thead>\n",
       "    <tr style=\"text-align: right;\">\n",
       "      <th></th>\n",
       "      <th>Unnamed: 0</th>\n",
       "      <th>Sex</th>\n",
       "      <th>Age</th>\n",
       "      <th>Debt</th>\n",
       "      <th>Years employed</th>\n",
       "      <th>Prior default</th>\n",
       "      <th>Employed</th>\n",
       "      <th>Credit score</th>\n",
       "      <th>Drivers Licence</th>\n",
       "      <th>Income</th>\n",
       "      <th>Approved</th>\n",
       "      <th>Married__l</th>\n",
       "      <th>Married__u</th>\n",
       "      <th>Married__y</th>\n",
       "      <th>Bank Costumer__g</th>\n",
       "      <th>Bank Costumer__gg</th>\n",
       "      <th>Bank Costumer__p</th>\n",
       "      <th>Citizen__g</th>\n",
       "      <th>Citizen__p</th>\n",
       "      <th>Citizen__s</th>\n",
       "    </tr>\n",
       "  </thead>\n",
       "  <tbody>\n",
       "    <tr>\n",
       "      <th>0</th>\n",
       "      <td>0</td>\n",
       "      <td>1</td>\n",
       "      <td>30.83</td>\n",
       "      <td>0.000</td>\n",
       "      <td>1.25</td>\n",
       "      <td>1</td>\n",
       "      <td>1</td>\n",
       "      <td>1.0</td>\n",
       "      <td>0</td>\n",
       "      <td>0.0</td>\n",
       "      <td>1</td>\n",
       "      <td>0</td>\n",
       "      <td>1</td>\n",
       "      <td>0</td>\n",
       "      <td>1</td>\n",
       "      <td>0</td>\n",
       "      <td>0</td>\n",
       "      <td>1</td>\n",
       "      <td>0</td>\n",
       "      <td>0</td>\n",
       "    </tr>\n",
       "    <tr>\n",
       "      <th>1</th>\n",
       "      <td>1</td>\n",
       "      <td>0</td>\n",
       "      <td>58.67</td>\n",
       "      <td>4.460</td>\n",
       "      <td>3.04</td>\n",
       "      <td>1</td>\n",
       "      <td>1</td>\n",
       "      <td>6.0</td>\n",
       "      <td>0</td>\n",
       "      <td>560.0</td>\n",
       "      <td>1</td>\n",
       "      <td>0</td>\n",
       "      <td>1</td>\n",
       "      <td>0</td>\n",
       "      <td>1</td>\n",
       "      <td>0</td>\n",
       "      <td>0</td>\n",
       "      <td>1</td>\n",
       "      <td>0</td>\n",
       "      <td>0</td>\n",
       "    </tr>\n",
       "    <tr>\n",
       "      <th>2</th>\n",
       "      <td>2</td>\n",
       "      <td>0</td>\n",
       "      <td>24.50</td>\n",
       "      <td>0.500</td>\n",
       "      <td>1.50</td>\n",
       "      <td>1</td>\n",
       "      <td>0</td>\n",
       "      <td>0.0</td>\n",
       "      <td>0</td>\n",
       "      <td>824.0</td>\n",
       "      <td>1</td>\n",
       "      <td>0</td>\n",
       "      <td>1</td>\n",
       "      <td>0</td>\n",
       "      <td>1</td>\n",
       "      <td>0</td>\n",
       "      <td>0</td>\n",
       "      <td>1</td>\n",
       "      <td>0</td>\n",
       "      <td>0</td>\n",
       "    </tr>\n",
       "    <tr>\n",
       "      <th>3</th>\n",
       "      <td>3</td>\n",
       "      <td>1</td>\n",
       "      <td>27.83</td>\n",
       "      <td>1.540</td>\n",
       "      <td>3.75</td>\n",
       "      <td>1</td>\n",
       "      <td>1</td>\n",
       "      <td>5.0</td>\n",
       "      <td>1</td>\n",
       "      <td>3.0</td>\n",
       "      <td>1</td>\n",
       "      <td>0</td>\n",
       "      <td>1</td>\n",
       "      <td>0</td>\n",
       "      <td>1</td>\n",
       "      <td>0</td>\n",
       "      <td>0</td>\n",
       "      <td>1</td>\n",
       "      <td>0</td>\n",
       "      <td>0</td>\n",
       "    </tr>\n",
       "    <tr>\n",
       "      <th>4</th>\n",
       "      <td>4</td>\n",
       "      <td>1</td>\n",
       "      <td>20.17</td>\n",
       "      <td>5.625</td>\n",
       "      <td>1.71</td>\n",
       "      <td>1</td>\n",
       "      <td>0</td>\n",
       "      <td>0.0</td>\n",
       "      <td>0</td>\n",
       "      <td>0.0</td>\n",
       "      <td>1</td>\n",
       "      <td>0</td>\n",
       "      <td>1</td>\n",
       "      <td>0</td>\n",
       "      <td>1</td>\n",
       "      <td>0</td>\n",
       "      <td>0</td>\n",
       "      <td>0</td>\n",
       "      <td>0</td>\n",
       "      <td>1</td>\n",
       "    </tr>\n",
       "  </tbody>\n",
       "</table>\n",
       "</div>"
      ],
      "text/plain": [
       "   Unnamed: 0  Sex    Age   Debt  Years employed  Prior default  Employed  \\\n",
       "0           0    1  30.83  0.000            1.25              1         1   \n",
       "1           1    0  58.67  4.460            3.04              1         1   \n",
       "2           2    0  24.50  0.500            1.50              1         0   \n",
       "3           3    1  27.83  1.540            3.75              1         1   \n",
       "4           4    1  20.17  5.625            1.71              1         0   \n",
       "\n",
       "   Credit score  Drivers Licence  Income  Approved  Married__l  Married__u  \\\n",
       "0           1.0                0     0.0         1           0           1   \n",
       "1           6.0                0   560.0         1           0           1   \n",
       "2           0.0                0   824.0         1           0           1   \n",
       "3           5.0                1     3.0         1           0           1   \n",
       "4           0.0                0     0.0         1           0           1   \n",
       "\n",
       "   Married__y  Bank Costumer__g  Bank Costumer__gg  Bank Costumer__p  \\\n",
       "0           0                 1                  0                 0   \n",
       "1           0                 1                  0                 0   \n",
       "2           0                 1                  0                 0   \n",
       "3           0                 1                  0                 0   \n",
       "4           0                 1                  0                 0   \n",
       "\n",
       "   Citizen__g  Citizen__p  Citizen__s  \n",
       "0           1           0           0  \n",
       "1           1           0           0  \n",
       "2           1           0           0  \n",
       "3           1           0           0  \n",
       "4           0           0           1  "
      ]
     },
     "execution_count": 28,
     "metadata": {},
     "output_type": "execute_result"
    }
   ],
   "source": [
    "data = pd.read_csv('data.csv')\n",
    "data.head()"
   ]
  },
  {
   "cell_type": "code",
   "execution_count": 29,
   "metadata": {},
   "outputs": [],
   "source": [
    "X = data.drop(['Approved','Unnamed: 0'],  axis = 1)\n",
    "y = data['Approved']"
   ]
  },
  {
   "cell_type": "code",
   "execution_count": 30,
   "metadata": {},
   "outputs": [],
   "source": [
    "from sklearn.model_selection import train_test_split\n",
    "from sklearn.preprocessing import MinMaxScaler"
   ]
  },
  {
   "cell_type": "code",
   "execution_count": 31,
   "metadata": {},
   "outputs": [],
   "source": [
    "# random_state =0 only for sklearn library \n",
    "X_train_org,X_test_org,y_train,y_test = train_test_split(X,y,random_state = 0)"
   ]
  },
  {
   "cell_type": "code",
   "execution_count": 63,
   "metadata": {},
   "outputs": [],
   "source": [
    "# For keras library \n",
    "np.random.seed(0)"
   ]
  },
  {
   "cell_type": "code",
   "execution_count": 64,
   "metadata": {},
   "outputs": [],
   "source": [
    "scaler = MinMaxScaler()\n",
    "X_train = scaler.fit_transform(X_train_org.astype(float))\n",
    "X_test = scaler.transform(X_test_org.astype(float))"
   ]
  },
  {
   "cell_type": "code",
   "execution_count": 65,
   "metadata": {},
   "outputs": [
    {
     "data": {
      "text/plain": [
       "(517, 18)"
      ]
     },
     "execution_count": 65,
     "metadata": {},
     "output_type": "execute_result"
    }
   ],
   "source": [
    "X_train.shape"
   ]
  },
  {
   "cell_type": "markdown",
   "metadata": {},
   "source": [
    "# Model:Perceptron"
   ]
  },
  {
   "cell_type": "code",
   "execution_count": 66,
   "metadata": {},
   "outputs": [],
   "source": [
    "from tensorflow.keras import Sequential\n",
    "from tensorflow.keras.layers import Dense "
   ]
  },
  {
   "cell_type": "code",
   "execution_count": 67,
   "metadata": {},
   "outputs": [
    {
     "name": "stdout",
     "output_type": "stream",
     "text": [
      "Epoch 1/50\n",
      "517/517 [==============================] - 1s 1ms/step - loss: 0.7172 - acc: 0.5764\n",
      "Epoch 2/50\n",
      "517/517 [==============================] - 0s 13us/step - loss: 0.7138 - acc: 0.5764\n",
      "Epoch 3/50\n",
      "517/517 [==============================] - 0s 18us/step - loss: 0.7096 - acc: 0.5783\n",
      "Epoch 4/50\n",
      "517/517 [==============================] - 0s 20us/step - loss: 0.7057 - acc: 0.5803\n",
      "Epoch 5/50\n",
      "517/517 [==============================] - 0s 18us/step - loss: 0.7021 - acc: 0.5803\n",
      "Epoch 6/50\n",
      "517/517 [==============================] - 0s 32us/step - loss: 0.6983 - acc: 0.5803\n",
      "Epoch 7/50\n",
      "517/517 [==============================] - 0s 18us/step - loss: 0.6948 - acc: 0.5783\n",
      "Epoch 8/50\n",
      "517/517 [==============================] - 0s 21us/step - loss: 0.6915 - acc: 0.5725\n",
      "Epoch 9/50\n",
      "517/517 [==============================] - 0s 10us/step - loss: 0.6881 - acc: 0.5725\n",
      "Epoch 10/50\n",
      "517/517 [==============================] - 0s 26us/step - loss: 0.6849 - acc: 0.5706\n",
      "Epoch 11/50\n",
      "517/517 [==============================] - 0s 15us/step - loss: 0.6817 - acc: 0.5667\n",
      "Epoch 12/50\n",
      "517/517 [==============================] - 0s 22us/step - loss: 0.6787 - acc: 0.5648\n",
      "Epoch 13/50\n",
      "517/517 [==============================] - 0s 22us/step - loss: 0.6755 - acc: 0.5590\n",
      "Epoch 14/50\n",
      "517/517 [==============================] - 0s 16us/step - loss: 0.6726 - acc: 0.5493\n",
      "Epoch 15/50\n",
      "517/517 [==============================] - 0s 17us/step - loss: 0.6700 - acc: 0.5416\n",
      "Epoch 16/50\n",
      "517/517 [==============================] - 0s 13us/step - loss: 0.6672 - acc: 0.5416\n",
      "Epoch 17/50\n",
      "517/517 [==============================] - 0s 25us/step - loss: 0.6643 - acc: 0.5377\n",
      "Epoch 18/50\n",
      "517/517 [==============================] - 0s 16us/step - loss: 0.6618 - acc: 0.5377\n",
      "Epoch 19/50\n",
      "517/517 [==============================] - 0s 23us/step - loss: 0.6591 - acc: 0.5300\n",
      "Epoch 20/50\n",
      "517/517 [==============================] - 0s 13us/step - loss: 0.6565 - acc: 0.5416\n",
      "Epoch 21/50\n",
      "517/517 [==============================] - 0s 16us/step - loss: 0.6540 - acc: 0.5861\n",
      "Epoch 22/50\n",
      "517/517 [==============================] - 0s 15us/step - loss: 0.6516 - acc: 0.5957\n",
      "Epoch 23/50\n",
      "517/517 [==============================] - 0s 14us/step - loss: 0.6492 - acc: 0.6054\n",
      "Epoch 24/50\n",
      "517/517 [==============================] - 0s 12us/step - loss: 0.6467 - acc: 0.6093\n",
      "Epoch 25/50\n",
      "517/517 [==============================] - 0s 14us/step - loss: 0.6443 - acc: 0.6112\n",
      "Epoch 26/50\n",
      "517/517 [==============================] - 0s 12us/step - loss: 0.6419 - acc: 0.6151\n",
      "Epoch 27/50\n",
      "517/517 [==============================] - 0s 24us/step - loss: 0.6395 - acc: 0.6190\n",
      "Epoch 28/50\n",
      "517/517 [==============================] - 0s 13us/step - loss: 0.6372 - acc: 0.6209\n",
      "Epoch 29/50\n",
      "517/517 [==============================] - 0s 12us/step - loss: 0.6347 - acc: 0.6286\n",
      "Epoch 30/50\n",
      "517/517 [==============================] - 0s 20us/step - loss: 0.6324 - acc: 0.6615\n",
      "Epoch 31/50\n",
      "517/517 [==============================] - 0s 13us/step - loss: 0.6301 - acc: 0.6712\n",
      "Epoch 32/50\n",
      "517/517 [==============================] - 0s 12us/step - loss: 0.6277 - acc: 0.6809\n",
      "Epoch 33/50\n",
      "517/517 [==============================] - 0s 13us/step - loss: 0.6254 - acc: 0.6905\n",
      "Epoch 34/50\n",
      "517/517 [==============================] - 0s 14us/step - loss: 0.6231 - acc: 0.6925\n",
      "Epoch 35/50\n",
      "517/517 [==============================] - 0s 23us/step - loss: 0.6207 - acc: 0.6925\n",
      "Epoch 36/50\n",
      "517/517 [==============================] - 0s 16us/step - loss: 0.6184 - acc: 0.6925\n",
      "Epoch 37/50\n",
      "517/517 [==============================] - 0s 18us/step - loss: 0.6162 - acc: 0.6944\n",
      "Epoch 38/50\n",
      "517/517 [==============================] - 0s 12us/step - loss: 0.6138 - acc: 0.6944\n",
      "Epoch 39/50\n",
      "517/517 [==============================] - 0s 15us/step - loss: 0.6115 - acc: 0.6925\n",
      "Epoch 40/50\n",
      "517/517 [==============================] - 0s 30us/step - loss: 0.6092 - acc: 0.6944\n",
      "Epoch 41/50\n",
      "517/517 [==============================] - 0s 14us/step - loss: 0.6070 - acc: 0.6963\n",
      "Epoch 42/50\n",
      "517/517 [==============================] - 0s 16us/step - loss: 0.6047 - acc: 0.6963\n",
      "Epoch 43/50\n",
      "517/517 [==============================] - 0s 36us/step - loss: 0.6023 - acc: 0.6963\n",
      "Epoch 44/50\n",
      "517/517 [==============================] - 0s 14us/step - loss: 0.5999 - acc: 0.7002\n",
      "Epoch 45/50\n",
      "517/517 [==============================] - 0s 22us/step - loss: 0.5976 - acc: 0.7021\n",
      "Epoch 46/50\n",
      "517/517 [==============================] - 0s 11us/step - loss: 0.5951 - acc: 0.7041\n",
      "Epoch 47/50\n",
      "517/517 [==============================] - 0s 30us/step - loss: 0.5926 - acc: 0.7041\n",
      "Epoch 48/50\n",
      "517/517 [==============================] - 0s 14us/step - loss: 0.5900 - acc: 0.7099\n",
      "Epoch 49/50\n",
      "517/517 [==============================] - 0s 19us/step - loss: 0.5873 - acc: 0.7176\n",
      "Epoch 50/50\n",
      "517/517 [==============================] - 0s 20us/step - loss: 0.5847 - acc: 0.7195\n"
     ]
    },
    {
     "data": {
      "text/plain": [
       "<tensorflow.python.keras.callbacks.History at 0x12ee25f98>"
      ]
     },
     "execution_count": 67,
     "metadata": {},
     "output_type": "execute_result"
    }
   ],
   "source": [
    "# Step1 : build a model \n",
    "model1 = Sequential()\n",
    "#input layer \n",
    "model1.add(Dense(10,input_dim=18, activation = 'relu'))\n",
    "#hidden layers\n",
    "#output layer \n",
    "model1.add(Dense(1,activation = 'sigmoid'))\n",
    "# step2 : make computational graph- compile \n",
    "model1.compile(loss = 'binary_crossentropy',optimizer ='adam',metrics=['accuracy'] )\n",
    "# step 3 : train the model - fit \n",
    "model1.fit(X_train,y_train,epochs = 50,batch_size= 300)\n",
    "# step 4 : evaluation "
   ]
  },
  {
   "cell_type": "code",
   "execution_count": 68,
   "metadata": {},
   "outputs": [
    {
     "name": "stdout",
     "output_type": "stream",
     "text": [
      "517/517 [==============================] - 0s 488us/step\n"
     ]
    },
    {
     "data": {
      "text/plain": [
       "[0.5824682036958765, 0.7195357834232153]"
      ]
     },
     "execution_count": 68,
     "metadata": {},
     "output_type": "execute_result"
    }
   ],
   "source": [
    "model1.evaluate(X_train,y_train)"
   ]
  },
  {
   "cell_type": "code",
   "execution_count": 69,
   "metadata": {},
   "outputs": [
    {
     "name": "stdout",
     "output_type": "stream",
     "text": [
      "173/173 [==============================] - 0s 69us/step\n"
     ]
    },
    {
     "data": {
      "text/plain": [
       "[0.6497148451088481, 0.6416184972820943]"
      ]
     },
     "execution_count": 69,
     "metadata": {},
     "output_type": "execute_result"
    }
   ],
   "source": [
    "model1.evaluate(X_test,y_test)"
   ]
  },
  {
   "cell_type": "markdown",
   "metadata": {},
   "source": [
    "# Multilayer Perceptron(MLP)"
   ]
  },
  {
   "cell_type": "code",
   "execution_count": 70,
   "metadata": {},
   "outputs": [
    {
     "name": "stdout",
     "output_type": "stream",
     "text": [
      "Epoch 1/30\n",
      "517/517 [==============================] - 1s 2ms/step - loss: 0.7096 - acc: 0.5609\n",
      "Epoch 2/30\n",
      "517/517 [==============================] - 0s 30us/step - loss: 0.7030 - acc: 0.5609\n",
      "Epoch 3/30\n",
      "517/517 [==============================] - 0s 28us/step - loss: 0.6961 - acc: 0.5609\n",
      "Epoch 4/30\n",
      "517/517 [==============================] - 0s 51us/step - loss: 0.6900 - acc: 0.5609\n",
      "Epoch 5/30\n",
      "517/517 [==============================] - 0s 44us/step - loss: 0.6833 - acc: 0.5609\n",
      "Epoch 6/30\n",
      "517/517 [==============================] - 0s 30us/step - loss: 0.6762 - acc: 0.5609\n",
      "Epoch 7/30\n",
      "517/517 [==============================] - 0s 43us/step - loss: 0.6680 - acc: 0.5609\n",
      "Epoch 8/30\n",
      "517/517 [==============================] - 0s 40us/step - loss: 0.6599 - acc: 0.5609\n",
      "Epoch 9/30\n",
      "517/517 [==============================] - 0s 30us/step - loss: 0.6522 - acc: 0.5609\n",
      "Epoch 10/30\n",
      "517/517 [==============================] - 0s 27us/step - loss: 0.6444 - acc: 0.5609\n",
      "Epoch 11/30\n",
      "517/517 [==============================] - 0s 48us/step - loss: 0.6368 - acc: 0.5609\n",
      "Epoch 12/30\n",
      "517/517 [==============================] - 0s 45us/step - loss: 0.6293 - acc: 0.5609\n",
      "Epoch 13/30\n",
      "517/517 [==============================] - 0s 42us/step - loss: 0.6215 - acc: 0.5609\n",
      "Epoch 14/30\n",
      "517/517 [==============================] - 0s 34us/step - loss: 0.6142 - acc: 0.5609\n",
      "Epoch 15/30\n",
      "517/517 [==============================] - 0s 44us/step - loss: 0.6056 - acc: 0.5629\n",
      "Epoch 16/30\n",
      "517/517 [==============================] - 0s 22us/step - loss: 0.5977 - acc: 0.5687\n",
      "Epoch 17/30\n",
      "517/517 [==============================] - 0s 43us/step - loss: 0.5893 - acc: 0.5938\n",
      "Epoch 18/30\n",
      "517/517 [==============================] - 0s 39us/step - loss: 0.5806 - acc: 0.6325\n",
      "Epoch 19/30\n",
      "517/517 [==============================] - 0s 29us/step - loss: 0.5722 - acc: 0.7157\n",
      "Epoch 20/30\n",
      "517/517 [==============================] - 0s 44us/step - loss: 0.5632 - acc: 0.8008\n",
      "Epoch 21/30\n",
      "517/517 [==============================] - 0s 35us/step - loss: 0.5545 - acc: 0.8143\n",
      "Epoch 22/30\n",
      "517/517 [==============================] - 0s 39us/step - loss: 0.5450 - acc: 0.8221\n",
      "Epoch 23/30\n",
      "517/517 [==============================] - 0s 25us/step - loss: 0.5355 - acc: 0.8221\n",
      "Epoch 24/30\n",
      "517/517 [==============================] - 0s 41us/step - loss: 0.5255 - acc: 0.8279\n",
      "Epoch 25/30\n",
      "517/517 [==============================] - 0s 28us/step - loss: 0.5128 - acc: 0.8279\n",
      "Epoch 26/30\n",
      "517/517 [==============================] - 0s 38us/step - loss: 0.4956 - acc: 0.8317\n",
      "Epoch 27/30\n",
      "517/517 [==============================] - 0s 31us/step - loss: 0.4777 - acc: 0.8453\n",
      "Epoch 28/30\n",
      "517/517 [==============================] - 0s 39us/step - loss: 0.4595 - acc: 0.8549\n",
      "Epoch 29/30\n",
      "517/517 [==============================] - 0s 38us/step - loss: 0.4418 - acc: 0.8723\n",
      "Epoch 30/30\n",
      "517/517 [==============================] - 0s 37us/step - loss: 0.4251 - acc: 0.8743\n"
     ]
    },
    {
     "data": {
      "text/plain": [
       "<tensorflow.python.keras.callbacks.History at 0x12fab89b0>"
      ]
     },
     "execution_count": 70,
     "metadata": {},
     "output_type": "execute_result"
    }
   ],
   "source": [
    "#Step1 : build model \n",
    "model2 = Sequential()\n",
    "#input layer \n",
    "model2.add(Dense(20,input_dim = 18,activation = 'relu'))\n",
    "# hidden layers \n",
    "model2.add(Dense(10,activation = 'relu'))\n",
    "model2.add(Dense(5,activation = 'relu'))\n",
    "# output \n",
    "model2.add(Dense(1,activation = 'sigmoid'))\n",
    "#Step2 : compile the model \n",
    "model2.compile(loss = 'binary_crossentropy',optimizer ='adam',metrics=['accuracy'] )\n",
    "#step3 : train the model \n",
    "model2.fit(X_train, y_train, epochs = 30 , batch_size = 150)\n",
    "# step4 : evaluation "
   ]
  },
  {
   "cell_type": "code",
   "execution_count": 71,
   "metadata": {},
   "outputs": [
    {
     "name": "stdout",
     "output_type": "stream",
     "text": [
      "517/517 [==============================] - 0s 537us/step\n"
     ]
    },
    {
     "data": {
      "text/plain": [
       "[0.4149450513334293, 0.8723404255319149]"
      ]
     },
     "execution_count": 71,
     "metadata": {},
     "output_type": "execute_result"
    }
   ],
   "source": [
    "model2.evaluate(X_train,y_train)"
   ]
  },
  {
   "cell_type": "code",
   "execution_count": 72,
   "metadata": {},
   "outputs": [
    {
     "name": "stdout",
     "output_type": "stream",
     "text": [
      "173/173 [==============================] - 0s 53us/step\n"
     ]
    },
    {
     "data": {
      "text/plain": [
       "[0.4790457008201952, 0.826589595720258]"
      ]
     },
     "execution_count": 72,
     "metadata": {},
     "output_type": "execute_result"
    }
   ],
   "source": [
    "model2.evaluate(X_test,y_test)"
   ]
  },
  {
   "cell_type": "code",
   "execution_count": null,
   "metadata": {},
   "outputs": [],
   "source": []
  },
  {
   "cell_type": "code",
   "execution_count": null,
   "metadata": {},
   "outputs": [],
   "source": []
  },
  {
   "cell_type": "code",
   "execution_count": null,
   "metadata": {},
   "outputs": [],
   "source": []
  },
  {
   "cell_type": "code",
   "execution_count": null,
   "metadata": {},
   "outputs": [],
   "source": []
  }
 ],
 "metadata": {
  "kernelspec": {
   "display_name": "Python 3",
   "language": "python",
   "name": "python3"
  },
  "language_info": {
   "codemirror_mode": {
    "name": "ipython",
    "version": 3
   },
   "file_extension": ".py",
   "mimetype": "text/x-python",
   "name": "python",
   "nbconvert_exporter": "python",
   "pygments_lexer": "ipython3",
   "version": "3.6.0"
  }
 },
 "nbformat": 4,
 "nbformat_minor": 2
}
